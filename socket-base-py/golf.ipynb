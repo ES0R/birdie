{
 "cells": [
  {
   "cell_type": "code",
   "execution_count": 1,
   "metadata": {},
   "outputs": [
    {
     "name": "stdout",
     "output_type": "stream",
     "text": [
      "PRO TIP 💡 Replace 'model=yolov5n.pt' with new 'model=yolov5nu.pt'.\n",
      "YOLOv5 'u' models are trained with https://github.com/ultralytics/ultralytics and feature improved performance vs standard YOLOv5 models trained with https://github.com/ultralytics/yolov5.\n",
      "\n",
      "False\n",
      "New https://pypi.org/project/ultralytics/8.1.29 available 😃 Update with 'pip install -U ultralytics'\n",
      "Ultralytics YOLOv8.1.28 🚀 Python-3.12.1 torch-2.2.1+cpu CPU (12th Gen Intel Core(TM) i9-12900HK)\n",
      "\u001b[34m\u001b[1mengine\\trainer: \u001b[0mtask=detect, mode=train, model=yolov5n.pt, data=C:\\Users\\s194149\\ws\\dataset\\Golf ball.v2i.yolov8\\data.yaml, epochs=2, time=None, patience=100, batch=16, imgsz=640, save=True, save_period=-1, cache=False, device=None, workers=8, project=runs/train, name=golf_ball_detection12, exist_ok=False, pretrained=True, optimizer=auto, verbose=True, seed=0, deterministic=True, single_cls=False, rect=False, cos_lr=False, close_mosaic=10, resume=False, amp=True, fraction=1.0, profile=False, freeze=None, multi_scale=False, overlap_mask=True, mask_ratio=4, dropout=0.0, val=True, split=val, save_json=False, save_hybrid=False, conf=None, iou=0.7, max_det=300, half=False, dnn=False, plots=True, source=None, vid_stride=1, stream_buffer=False, visualize=False, augment=False, agnostic_nms=False, classes=None, retina_masks=False, embed=None, show=False, save_frames=False, save_txt=False, save_conf=False, save_crop=False, show_labels=True, show_conf=True, show_boxes=True, line_width=None, format=torchscript, keras=False, optimize=False, int8=False, dynamic=False, simplify=False, opset=None, workspace=4, nms=False, lr0=0.01, lrf=0.01, momentum=0.937, weight_decay=0.0005, warmup_epochs=3.0, warmup_momentum=0.8, warmup_bias_lr=0.1, box=7.5, cls=0.5, dfl=1.5, pose=12.0, kobj=1.0, label_smoothing=0.0, nbs=64, hsv_h=0.015, hsv_s=0.7, hsv_v=0.4, degrees=0.0, translate=0.1, scale=0.5, shear=0.0, perspective=0.0, flipud=0.0, fliplr=0.5, mosaic=1.0, mixup=0.0, copy_paste=0.0, auto_augment=randaugment, erasing=0.4, crop_fraction=1.0, cfg=None, tracker=botsort.yaml, save_dir=runs\\train\\golf_ball_detection12\n",
      "Overriding model.yaml nc=80 with nc=1\n",
      "\n",
      "                   from  n    params  module                                       arguments                     \n",
      "  0                  -1  1      1760  ultralytics.nn.modules.conv.Conv             [3, 16, 6, 2, 2]              \n",
      "  1                  -1  1      4672  ultralytics.nn.modules.conv.Conv             [16, 32, 3, 2]                \n",
      "  2                  -1  1      4800  ultralytics.nn.modules.block.C3              [32, 32, 1]                   \n",
      "  3                  -1  1     18560  ultralytics.nn.modules.conv.Conv             [32, 64, 3, 2]                \n",
      "  4                  -1  2     29184  ultralytics.nn.modules.block.C3              [64, 64, 2]                   \n",
      "  5                  -1  1     73984  ultralytics.nn.modules.conv.Conv             [64, 128, 3, 2]               \n",
      "  6                  -1  3    156928  ultralytics.nn.modules.block.C3              [128, 128, 3]                 \n",
      "  7                  -1  1    295424  ultralytics.nn.modules.conv.Conv             [128, 256, 3, 2]              \n",
      "  8                  -1  1    296448  ultralytics.nn.modules.block.C3              [256, 256, 1]                 \n",
      "  9                  -1  1    164608  ultralytics.nn.modules.block.SPPF            [256, 256, 5]                 \n",
      " 10                  -1  1     33024  ultralytics.nn.modules.conv.Conv             [256, 128, 1, 1]              \n",
      " 11                  -1  1         0  torch.nn.modules.upsampling.Upsample         [None, 2, 'nearest']          \n",
      " 12             [-1, 6]  1         0  ultralytics.nn.modules.conv.Concat           [1]                           \n",
      " 13                  -1  1     90880  ultralytics.nn.modules.block.C3              [256, 128, 1, False]          \n",
      " 14                  -1  1      8320  ultralytics.nn.modules.conv.Conv             [128, 64, 1, 1]               \n",
      " 15                  -1  1         0  torch.nn.modules.upsampling.Upsample         [None, 2, 'nearest']          \n",
      " 16             [-1, 4]  1         0  ultralytics.nn.modules.conv.Concat           [1]                           \n",
      " 17                  -1  1     22912  ultralytics.nn.modules.block.C3              [128, 64, 1, False]           \n",
      " 18                  -1  1     36992  ultralytics.nn.modules.conv.Conv             [64, 64, 3, 2]                \n",
      " 19            [-1, 14]  1         0  ultralytics.nn.modules.conv.Concat           [1]                           \n",
      " 20                  -1  1     74496  ultralytics.nn.modules.block.C3              [128, 128, 1, False]          \n",
      " 21                  -1  1    147712  ultralytics.nn.modules.conv.Conv             [128, 128, 3, 2]              \n",
      " 22            [-1, 10]  1         0  ultralytics.nn.modules.conv.Concat           [1]                           \n",
      " 23                  -1  1    296448  ultralytics.nn.modules.block.C3              [256, 256, 1, False]          \n",
      " 24        [17, 20, 23]  1    751507  ultralytics.nn.modules.head.Detect           [1, [64, 128, 256]]           \n",
      "YOLOv5n summary: 262 layers, 2508659 parameters, 2508643 gradients, 7.2 GFLOPs\n",
      "\n",
      "Transferred 391/427 items from pretrained weights\n",
      "Freezing layer 'model.24.dfl.conv.weight'\n"
     ]
    },
    {
     "name": "stderr",
     "output_type": "stream",
     "text": [
      "\u001b[34m\u001b[1mtrain: \u001b[0mScanning C:\\Users\\s194149\\ws\\dataset\\Golf ball.v2i.yolov8\\train\\labels... 1802 images, 0 backgrounds, 0 corrupt: 100%|██████████| 1802/1802 [00:01<00:00, 1055.90it/s]\n"
     ]
    },
    {
     "name": "stdout",
     "output_type": "stream",
     "text": [
      "\u001b[34m\u001b[1mtrain: \u001b[0mNew cache created: C:\\Users\\s194149\\ws\\dataset\\Golf ball.v2i.yolov8\\train\\labels.cache\n"
     ]
    },
    {
     "name": "stderr",
     "output_type": "stream",
     "text": [
      "\u001b[34m\u001b[1mval: \u001b[0mScanning C:\\Users\\s194149\\ws\\dataset\\Golf ball.v2i.yolov8\\valid\\labels... 525 images, 0 backgrounds, 0 corrupt: 100%|██████████| 525/525 [00:00<00:00, 1073.35it/s]\n"
     ]
    },
    {
     "name": "stdout",
     "output_type": "stream",
     "text": [
      "\u001b[34m\u001b[1mval: \u001b[0mNew cache created: C:\\Users\\s194149\\ws\\dataset\\Golf ball.v2i.yolov8\\valid\\labels.cache\n",
      "Plotting labels to runs\\train\\golf_ball_detection12\\labels.jpg... \n",
      "\u001b[34m\u001b[1moptimizer:\u001b[0m 'optimizer=auto' found, ignoring 'lr0=0.01' and 'momentum=0.937' and determining best 'optimizer', 'lr0' and 'momentum' automatically... \n",
      "\u001b[34m\u001b[1moptimizer:\u001b[0m AdamW(lr=0.002, momentum=0.9) with parameter groups 69 weight(decay=0.0), 76 weight(decay=0.0005), 75 bias(decay=0.0)\n",
      "Image sizes 640 train, 640 val\n",
      "Using 0 dataloader workers\n",
      "Logging results to \u001b[1mruns\\train\\golf_ball_detection12\u001b[0m\n",
      "Starting training for 2 epochs...\n",
      "\n",
      "      Epoch    GPU_mem   box_loss   cls_loss   dfl_loss  Instances       Size\n"
     ]
    },
    {
     "name": "stderr",
     "output_type": "stream",
     "text": [
      "        1/2         0G      1.009      1.631      1.186         33        640: 100%|██████████| 113/113 [06:42<00:00,  3.56s/it]\n",
      "                 Class     Images  Instances      Box(P          R      mAP50  mAP50-95): 100%|██████████| 17/17 [00:36<00:00,  2.16s/it]"
     ]
    },
    {
     "name": "stdout",
     "output_type": "stream",
     "text": [
      "                   all        525        871      0.772      0.714      0.739      0.538\n"
     ]
    },
    {
     "name": "stderr",
     "output_type": "stream",
     "text": [
      "\n"
     ]
    },
    {
     "name": "stdout",
     "output_type": "stream",
     "text": [
      "\n",
      "      Epoch    GPU_mem   box_loss   cls_loss   dfl_loss  Instances       Size\n"
     ]
    },
    {
     "name": "stderr",
     "output_type": "stream",
     "text": [
      "        2/2         0G     0.9935      1.154      1.174         36        640: 100%|██████████| 113/113 [05:22<00:00,  2.85s/it]\n",
      "                 Class     Images  Instances      Box(P          R      mAP50  mAP50-95): 100%|██████████| 17/17 [00:33<00:00,  1.97s/it]"
     ]
    },
    {
     "name": "stdout",
     "output_type": "stream",
     "text": [
      "                   all        525        871      0.842       0.84      0.833      0.596\n"
     ]
    },
    {
     "name": "stderr",
     "output_type": "stream",
     "text": [
      "\n"
     ]
    },
    {
     "name": "stdout",
     "output_type": "stream",
     "text": [
      "\n",
      "2 epochs completed in 0.221 hours.\n",
      "Optimizer stripped from runs\\train\\golf_ball_detection12\\weights\\last.pt, 5.3MB\n",
      "Optimizer stripped from runs\\train\\golf_ball_detection12\\weights\\best.pt, 5.3MB\n",
      "\n",
      "Validating runs\\train\\golf_ball_detection12\\weights\\best.pt...\n",
      "Ultralytics YOLOv8.1.28 🚀 Python-3.12.1 torch-2.2.1+cpu CPU (12th Gen Intel Core(TM) i9-12900HK)\n",
      "YOLOv5n summary (fused): 193 layers, 2503139 parameters, 0 gradients, 7.1 GFLOPs\n"
     ]
    },
    {
     "name": "stderr",
     "output_type": "stream",
     "text": [
      "                 Class     Images  Instances      Box(P          R      mAP50  mAP50-95): 100%|██████████| 17/17 [00:26<00:00,  1.56s/it]\n"
     ]
    },
    {
     "name": "stdout",
     "output_type": "stream",
     "text": [
      "                   all        525        871      0.842       0.84      0.834      0.597\n",
      "Speed: 0.6ms preprocess, 39.9ms inference, 0.0ms loss, 4.8ms postprocess per image\n",
      "Results saved to \u001b[1mruns\\train\\golf_ball_detection12\u001b[0m\n"
     ]
    }
   ],
   "source": [
    "from ultralytics import YOLO  # This import may change based on the actual YOLOv8 package\n",
    "import torch\n",
    "\n",
    "\n",
    "\n",
    "# Load the YOLOv5 model\n",
    "model = YOLO('yolov5n.pt')\n",
    "\n",
    "# Set the path to the dataset YAML file\n",
    "dataset_yaml_path = 'C:\\\\Users\\\\s194149\\\\ws\\\\dataset\\\\Golf ball.v2i.yolov8\\\\data.yaml'\n",
    "\n",
    "# Check if CUDA is available\n",
    "print(torch.cuda.is_available())  # Should print True\n",
    "\n",
    "# Train the model using the dataset\n",
    "train_results = model.train(data=dataset_yaml_path,\n",
    "                            epochs=2,\n",
    "                            imgsz=640,\n",
    "                            project='runs/train',\n",
    "                            name='golf_ball_detection')\n",
    "\n"
   ]
  },
  {
   "cell_type": "code",
   "execution_count": 11,
   "metadata": {},
   "outputs": [
    {
     "ename": "ModuleNotFoundError",
     "evalue": "No module named 'ultralytics.utils.plots'",
     "output_type": "error",
     "traceback": [
      "\u001b[1;31m---------------------------------------------------------------------------\u001b[0m",
      "\u001b[1;31mModuleNotFoundError\u001b[0m                       Traceback (most recent call last)",
      "Cell \u001b[1;32mIn[11], line 3\u001b[0m\n\u001b[0;32m      1\u001b[0m \u001b[38;5;28;01mimport\u001b[39;00m \u001b[38;5;21;01mcv2\u001b[39;00m\n\u001b[0;32m      2\u001b[0m \u001b[38;5;28;01mfrom\u001b[39;00m \u001b[38;5;21;01mmatplotlib\u001b[39;00m \u001b[38;5;28;01mimport\u001b[39;00m pyplot \u001b[38;5;28;01mas\u001b[39;00m plt\n\u001b[1;32m----> 3\u001b[0m \u001b[38;5;28;01mfrom\u001b[39;00m \u001b[38;5;21;01multralytics\u001b[39;00m\u001b[38;5;21;01m.\u001b[39;00m\u001b[38;5;21;01mutils\u001b[39;00m\u001b[38;5;21;01m.\u001b[39;00m\u001b[38;5;21;01mplots\u001b[39;00m \u001b[38;5;28;01mimport\u001b[39;00m plot_bbox\n\u001b[0;32m      5\u001b[0m \u001b[38;5;66;03m# Assuming `results` is your inference output and it's a list of detections\u001b[39;00m\n\u001b[0;32m      6\u001b[0m \u001b[38;5;66;03m# Each detection in the format: [x_min, y_min, x_max, y_max, confidence, class_id]\u001b[39;00m\n\u001b[0;32m      7\u001b[0m \u001b[38;5;66;03m# Adjust this part based on the actual structure of your results\u001b[39;00m\n\u001b[0;32m      8\u001b[0m \u001b[38;5;28;01mfor\u001b[39;00m detection \u001b[38;5;129;01min\u001b[39;00m results:\n",
      "\u001b[1;31mModuleNotFoundError\u001b[0m: No module named 'ultralytics.utils.plots'"
     ]
    }
   ],
   "source": [
    "from ultralytics.utils.plots import plot_bbox\n",
    "# Assuming `results` is your inference output and it's a list of detections\n",
    "# Each detection in the format: [x_min, y_min, x_max, y_max, confidence, class_id]\n",
    "# Adjust this part based on the actual structure of your results\n",
    "\n",
    "\n",
    "for detection in results:\n",
    "    x_min, y_min, x_max, y_max, confidence, class_id = detection\n",
    "    plot_bbox(image, (x_min, y_min, x_max, y_max), label=class_id)\n",
    "\n",
    "# Display the image with bboxes\n",
    "plt.imshow(image)\n",
    "plt.axis('off')  # Hide the axes\n",
    "plt.show()\n"
   ]
  },
  {
   "cell_type": "code",
   "execution_count": 12,
   "metadata": {},
   "outputs": [
    {
     "name": "stdout",
     "output_type": "stream",
     "text": [
      "\n"
     ]
    },
    {
     "name": "stdout",
     "output_type": "stream",
     "text": [
      "image 1/1 c:\\Users\\s194149\\ws\\DTU\\birdie\\socket-base-py\\golf_01.png: 480x640 1 golfball, 83.0ms\n",
      "Speed: 10.1ms preprocess, 83.0ms inference, 1.0ms postprocess per image at shape (1, 3, 480, 640)\n"
     ]
    },
    {
     "ename": "ValueError",
     "evalue": "not enough values to unpack (expected 6, got 1)",
     "output_type": "error",
     "traceback": [
      "\u001b[1;31m---------------------------------------------------------------------------\u001b[0m",
      "\u001b[1;31mValueError\u001b[0m                                Traceback (most recent call last)",
      "Cell \u001b[1;32mIn[12], line 15\u001b[0m\n\u001b[0;32m     11\u001b[0m \u001b[38;5;66;03m# Assuming `results` is your inference output and it's a list of detections\u001b[39;00m\n\u001b[0;32m     12\u001b[0m \u001b[38;5;66;03m# Each detection in the format: [x_min, y_min, x_max, y_max, confidence, class_id]\u001b[39;00m\n\u001b[0;32m     13\u001b[0m \u001b[38;5;66;03m# Adjust this part based on the actual structure of your results\u001b[39;00m\n\u001b[0;32m     14\u001b[0m \u001b[38;5;28;01mfor\u001b[39;00m detection \u001b[38;5;129;01min\u001b[39;00m results:\n\u001b[1;32m---> 15\u001b[0m     x_min, y_min, x_max, y_max, confidence, class_id \u001b[38;5;241m=\u001b[39m detection\n\u001b[0;32m     16\u001b[0m     start_point \u001b[38;5;241m=\u001b[39m (x_min, y_min)\n\u001b[0;32m     17\u001b[0m     end_point \u001b[38;5;241m=\u001b[39m (x_max, y_max)\n",
      "\u001b[1;31mValueError\u001b[0m: not enough values to unpack (expected 6, got 1)"
     ]
    }
   ],
   "source": [
    "\n",
    "import cv2\n",
    "from matplotlib import pyplot as plt\n",
    "# Load the image\n",
    "image_path = \"golf_01.png\"\n",
    "image = cv2.imread(image_path)\n",
    "image = cv2.cvtColor(image, cv2.COLOR_BGR2RGB)  # Convert from BGR to RGB\n",
    "\n",
    "\n",
    "results = model.predict(\"golf_01.png\")\n",
    "\n",
    "# Assuming `results` is your inference output and it's a list of detections\n",
    "# Each detection in the format: [x_min, y_min, x_max, y_max, confidence, class_id]\n",
    "# Adjust this part based on the actual structure of your results\n",
    "for detection in results:\n",
    "    print(detection)\n",
    "    x_min, y_min, x_max, y_max, confidence, class_id = detection\n",
    "    start_point = (x_min, y_min)\n",
    "    end_point = (x_max, y_max)\n",
    "    color = (255, 0, 0)  # Color for the bbox (Blue in this case)\n",
    "    thickness = 2\n",
    "    image = cv2.rectangle(image, start_point, end_point, color, thickness)\n",
    "\n",
    "# Display the image with bboxes\n",
    "plt.figure(figsize=(10, 10))\n",
    "plt.imshow(image)\n",
    "plt.axis('off')  # Hide the axes\n",
    "plt.show()\n"
   ]
  }
 ],
 "metadata": {
  "kernelspec": {
   "display_name": "Python 3",
   "language": "python",
   "name": "python3"
  },
  "language_info": {
   "codemirror_mode": {
    "name": "ipython",
    "version": 3
   },
   "file_extension": ".py",
   "mimetype": "text/x-python",
   "name": "python",
   "nbconvert_exporter": "python",
   "pygments_lexer": "ipython3",
   "version": "3.12.1"
  }
 },
 "nbformat": 4,
 "nbformat_minor": 2
}
